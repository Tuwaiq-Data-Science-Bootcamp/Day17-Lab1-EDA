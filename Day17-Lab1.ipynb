{
 "cells": [
  {
   "cell_type": "code",
   "execution_count": 84,
   "id": "a40b0418",
   "metadata": {},
   "outputs": [],
   "source": [
    "import pandas as pd\n",
    "import numpy as np\n",
    "import matplotlib.pyplot as plt\n",
    "import seaborn as sns "
   ]
  },
  {
   "cell_type": "code",
   "execution_count": null,
   "id": "06f56cba",
   "metadata": {},
   "outputs": [],
   "source": [
    "## goal : "
   ]
  },
  {
   "cell_type": "code",
   "execution_count": 4,
   "id": "7171c7d3",
   "metadata": {},
   "outputs": [],
   "source": [
    "df = pd.read_csv('Loan_Defaults.csv')"
   ]
  },
  {
   "cell_type": "code",
   "execution_count": 65,
   "id": "43181ef6",
   "metadata": {},
   "outputs": [
    {
     "data": {
      "text/html": [
       "<div>\n",
       "<style scoped>\n",
       "    .dataframe tbody tr th:only-of-type {\n",
       "        vertical-align: middle;\n",
       "    }\n",
       "\n",
       "    .dataframe tbody tr th {\n",
       "        vertical-align: top;\n",
       "    }\n",
       "\n",
       "    .dataframe thead th {\n",
       "        text-align: right;\n",
       "    }\n",
       "</style>\n",
       "<table border=\"1\" class=\"dataframe\">\n",
       "  <thead>\n",
       "    <tr style=\"text-align: right;\">\n",
       "      <th></th>\n",
       "      <th>UNIQUEID</th>\n",
       "      <th>DISBURSED_AMOUNT</th>\n",
       "      <th>ASSET_COST</th>\n",
       "      <th>LTV</th>\n",
       "      <th>BRANCH_ID</th>\n",
       "      <th>SUPPLIER_ID</th>\n",
       "      <th>MANUFACTURER_ID</th>\n",
       "      <th>CURRENT_PINCODE_ID</th>\n",
       "      <th>DATE_OF_BIRTH</th>\n",
       "      <th>EMPLOYMENT_TYPE</th>\n",
       "      <th>...</th>\n",
       "      <th>SEC_CURRENT_BALANCE</th>\n",
       "      <th>SEC_SANCTIONED_AMOUNT</th>\n",
       "      <th>SEC_DISBURSED_AMOUNT</th>\n",
       "      <th>PRIMARY_INSTAL_AMT</th>\n",
       "      <th>SEC_INSTAL_AMT</th>\n",
       "      <th>NEW_ACCTS_IN_LAST_SIX_MONTHS</th>\n",
       "      <th>DELINQUENT_ACCTS_IN_LAST_SIX_MONTHS</th>\n",
       "      <th>AVERAGE_ACCT_AGE</th>\n",
       "      <th>CREDIT_HISTORY_LENGTH</th>\n",
       "      <th>NO_OF_INQUIRIES</th>\n",
       "    </tr>\n",
       "  </thead>\n",
       "  <tbody>\n",
       "    <tr>\n",
       "      <th>0</th>\n",
       "      <td>655269</td>\n",
       "      <td>53478</td>\n",
       "      <td>63558</td>\n",
       "      <td>86.54</td>\n",
       "      <td>67</td>\n",
       "      <td>22807</td>\n",
       "      <td>45</td>\n",
       "      <td>1497</td>\n",
       "      <td>01-01-1974</td>\n",
       "      <td>Salaried</td>\n",
       "      <td>...</td>\n",
       "      <td>0</td>\n",
       "      <td>0</td>\n",
       "      <td>0</td>\n",
       "      <td>0</td>\n",
       "      <td>0</td>\n",
       "      <td>0</td>\n",
       "      <td>0</td>\n",
       "      <td>0yrs 0mon</td>\n",
       "      <td>0yrs 0mon</td>\n",
       "      <td>0</td>\n",
       "    </tr>\n",
       "    <tr>\n",
       "      <th>1</th>\n",
       "      <td>723482</td>\n",
       "      <td>55513</td>\n",
       "      <td>63163</td>\n",
       "      <td>89.45</td>\n",
       "      <td>67</td>\n",
       "      <td>22807</td>\n",
       "      <td>45</td>\n",
       "      <td>1497</td>\n",
       "      <td>20-05-1985</td>\n",
       "      <td>Self employed</td>\n",
       "      <td>...</td>\n",
       "      <td>0</td>\n",
       "      <td>0</td>\n",
       "      <td>0</td>\n",
       "      <td>5605</td>\n",
       "      <td>0</td>\n",
       "      <td>1</td>\n",
       "      <td>0</td>\n",
       "      <td>0yrs 8mon</td>\n",
       "      <td>1yrs 0mon</td>\n",
       "      <td>1</td>\n",
       "    </tr>\n",
       "    <tr>\n",
       "      <th>2</th>\n",
       "      <td>758529</td>\n",
       "      <td>65282</td>\n",
       "      <td>84320</td>\n",
       "      <td>79.93</td>\n",
       "      <td>78</td>\n",
       "      <td>23135</td>\n",
       "      <td>86</td>\n",
       "      <td>2071</td>\n",
       "      <td>14-10-1995</td>\n",
       "      <td>Salaried</td>\n",
       "      <td>...</td>\n",
       "      <td>0</td>\n",
       "      <td>0</td>\n",
       "      <td>0</td>\n",
       "      <td>0</td>\n",
       "      <td>0</td>\n",
       "      <td>0</td>\n",
       "      <td>0</td>\n",
       "      <td>0yrs 0mon</td>\n",
       "      <td>0yrs 0mon</td>\n",
       "      <td>0</td>\n",
       "    </tr>\n",
       "    <tr>\n",
       "      <th>3</th>\n",
       "      <td>763449</td>\n",
       "      <td>46905</td>\n",
       "      <td>63896</td>\n",
       "      <td>76.58</td>\n",
       "      <td>78</td>\n",
       "      <td>17014</td>\n",
       "      <td>45</td>\n",
       "      <td>2070</td>\n",
       "      <td>01-06-1973</td>\n",
       "      <td>Self employed</td>\n",
       "      <td>...</td>\n",
       "      <td>0</td>\n",
       "      <td>0</td>\n",
       "      <td>0</td>\n",
       "      <td>0</td>\n",
       "      <td>0</td>\n",
       "      <td>0</td>\n",
       "      <td>0</td>\n",
       "      <td>2yrs 5mon</td>\n",
       "      <td>2yrs 5mon</td>\n",
       "      <td>0</td>\n",
       "    </tr>\n",
       "    <tr>\n",
       "      <th>4</th>\n",
       "      <td>708663</td>\n",
       "      <td>51428</td>\n",
       "      <td>63896</td>\n",
       "      <td>86.08</td>\n",
       "      <td>78</td>\n",
       "      <td>17014</td>\n",
       "      <td>45</td>\n",
       "      <td>2069</td>\n",
       "      <td>01-06-1972</td>\n",
       "      <td>Salaried</td>\n",
       "      <td>...</td>\n",
       "      <td>0</td>\n",
       "      <td>0</td>\n",
       "      <td>0</td>\n",
       "      <td>0</td>\n",
       "      <td>0</td>\n",
       "      <td>0</td>\n",
       "      <td>0</td>\n",
       "      <td>0yrs 0mon</td>\n",
       "      <td>0yrs 0mon</td>\n",
       "      <td>0</td>\n",
       "    </tr>\n",
       "  </tbody>\n",
       "</table>\n",
       "<p>5 rows × 40 columns</p>\n",
       "</div>"
      ],
      "text/plain": [
       "   UNIQUEID  DISBURSED_AMOUNT  ASSET_COST    LTV BRANCH_ID  SUPPLIER_ID  \\\n",
       "0    655269             53478       63558  86.54        67        22807   \n",
       "1    723482             55513       63163  89.45        67        22807   \n",
       "2    758529             65282       84320  79.93        78        23135   \n",
       "3    763449             46905       63896  76.58        78        17014   \n",
       "4    708663             51428       63896  86.08        78        17014   \n",
       "\n",
       "   MANUFACTURER_ID  CURRENT_PINCODE_ID DATE_OF_BIRTH EMPLOYMENT_TYPE  ...  \\\n",
       "0               45                1497    01-01-1974        Salaried  ...   \n",
       "1               45                1497    20-05-1985   Self employed  ...   \n",
       "2               86                2071    14-10-1995        Salaried  ...   \n",
       "3               45                2070    01-06-1973   Self employed  ...   \n",
       "4               45                2069    01-06-1972        Salaried  ...   \n",
       "\n",
       "  SEC_CURRENT_BALANCE  SEC_SANCTIONED_AMOUNT  SEC_DISBURSED_AMOUNT  \\\n",
       "0                   0                      0                     0   \n",
       "1                   0                      0                     0   \n",
       "2                   0                      0                     0   \n",
       "3                   0                      0                     0   \n",
       "4                   0                      0                     0   \n",
       "\n",
       "   PRIMARY_INSTAL_AMT  SEC_INSTAL_AMT  NEW_ACCTS_IN_LAST_SIX_MONTHS  \\\n",
       "0                   0               0                             0   \n",
       "1                5605               0                             1   \n",
       "2                   0               0                             0   \n",
       "3                   0               0                             0   \n",
       "4                   0               0                             0   \n",
       "\n",
       "   DELINQUENT_ACCTS_IN_LAST_SIX_MONTHS  AVERAGE_ACCT_AGE  \\\n",
       "0                                    0         0yrs 0mon   \n",
       "1                                    0         0yrs 8mon   \n",
       "2                                    0         0yrs 0mon   \n",
       "3                                    0         2yrs 5mon   \n",
       "4                                    0         0yrs 0mon   \n",
       "\n",
       "   CREDIT_HISTORY_LENGTH  NO_OF_INQUIRIES  \n",
       "0              0yrs 0mon                0  \n",
       "1              1yrs 0mon                1  \n",
       "2              0yrs 0mon                0  \n",
       "3              2yrs 5mon                0  \n",
       "4              0yrs 0mon                0  \n",
       "\n",
       "[5 rows x 40 columns]"
      ]
     },
     "execution_count": 65,
     "metadata": {},
     "output_type": "execute_result"
    }
   ],
   "source": [
    "df.head()"
   ]
  },
  {
   "cell_type": "markdown",
   "id": "c25f162d",
   "metadata": {},
   "source": [
    "#EDA"
   ]
  },
  {
   "cell_type": "code",
   "execution_count": 74,
   "id": "cb70e555",
   "metadata": {},
   "outputs": [
    {
     "name": "stdout",
     "output_type": "stream",
     "text": [
      "<class 'pandas.core.frame.DataFrame'>\n",
      "RangeIndex: 112392 entries, 0 to 112391\n",
      "Data columns (total 40 columns):\n",
      " #   Column                               Non-Null Count   Dtype   \n",
      "---  ------                               --------------   -----   \n",
      " 0   UNIQUEID                             112392 non-null  int64   \n",
      " 1   DISBURSED_AMOUNT                     112392 non-null  int64   \n",
      " 2   ASSET_COST                           112392 non-null  int64   \n",
      " 3   LTV                                  112392 non-null  float64 \n",
      " 4   BRANCH_ID                            112392 non-null  category\n",
      " 5   SUPPLIER_ID                          112392 non-null  int64   \n",
      " 6   MANUFACTURER_ID                      112392 non-null  int64   \n",
      " 7   CURRENT_PINCODE_ID                   112392 non-null  int64   \n",
      " 8   DATE_OF_BIRTH                        112392 non-null  object  \n",
      " 9   EMPLOYMENT_TYPE                      108949 non-null  object  \n",
      " 10  DISBURSAL_DATE                       112392 non-null  object  \n",
      " 11  STATE_ID                             112392 non-null  int64   \n",
      " 12  EMPLOYEE_CODE_ID                     112392 non-null  int64   \n",
      " 13  MOBILENO_AVL_FLAG                    112392 non-null  int64   \n",
      " 14  AADHAR_FLAG                          112392 non-null  int64   \n",
      " 15  PAN_FLAG                             112392 non-null  int64   \n",
      " 16  VOTERID_FLAG                         112392 non-null  int64   \n",
      " 17  DRIVING_FLAG                         112392 non-null  int64   \n",
      " 18  PASSPORT_FLAG                        112392 non-null  int64   \n",
      " 19  PERFORM_CNS_SCORE                    112392 non-null  int64   \n",
      " 20  PERFORM_CNS_SCORE_DESCRIPTION        112392 non-null  object  \n",
      " 21  PRI_NO_OF_ACCTS                      112392 non-null  int64   \n",
      " 22  PRI_ACTIVE_ACCTS                     112392 non-null  int64   \n",
      " 23  PRI_OVERDUE_ACCTS                    112392 non-null  int64   \n",
      " 24  PRI_CURRENT_BALANCE                  112392 non-null  int64   \n",
      " 25  PRI_SANCTIONED_AMOUNT                112392 non-null  int64   \n",
      " 26  PRI_DISBURSED_AMOUNT                 112392 non-null  int64   \n",
      " 27  SEC_NO_OF_ACCTS                      112392 non-null  int64   \n",
      " 28  SEC_ACTIVE_ACCTS                     112392 non-null  int64   \n",
      " 29  SEC_OVERDUE_ACCTS                    112392 non-null  int64   \n",
      " 30  SEC_CURRENT_BALANCE                  112392 non-null  int64   \n",
      " 31  SEC_SANCTIONED_AMOUNT                112392 non-null  int64   \n",
      " 32  SEC_DISBURSED_AMOUNT                 112392 non-null  int64   \n",
      " 33  PRIMARY_INSTAL_AMT                   112392 non-null  int64   \n",
      " 34  SEC_INSTAL_AMT                       112392 non-null  int64   \n",
      " 35  NEW_ACCTS_IN_LAST_SIX_MONTHS         112392 non-null  int64   \n",
      " 36  DELINQUENT_ACCTS_IN_LAST_SIX_MONTHS  112392 non-null  int64   \n",
      " 37  AVERAGE_ACCT_AGE                     112392 non-null  object  \n",
      " 38  CREDIT_HISTORY_LENGTH                112392 non-null  object  \n",
      " 39  NO_OF_INQUIRIES                      112392 non-null  int64   \n",
      "dtypes: category(1), float64(1), int64(32), object(6)\n",
      "memory usage: 33.6+ MB\n"
     ]
    }
   ],
   "source": [
    "df.info()"
   ]
  },
  {
   "cell_type": "code",
   "execution_count": 7,
   "id": "49ecb9d5",
   "metadata": {},
   "outputs": [
    {
     "data": {
      "text/plain": [
       "4495680"
      ]
     },
     "execution_count": 7,
     "metadata": {},
     "output_type": "execute_result"
    }
   ],
   "source": [
    "df.size"
   ]
  },
  {
   "cell_type": "markdown",
   "id": "ec8258ef",
   "metadata": {},
   "source": [
    "## univariate "
   ]
  },
  {
   "cell_type": "code",
   "execution_count": 13,
   "id": "e3dc3f84",
   "metadata": {},
   "outputs": [
    {
     "data": {
      "text/plain": [
       "count    112392.000000\n",
       "mean      56076.803269\n",
       "std       13123.697627\n",
       "min       11613.000000\n",
       "25%       48849.000000\n",
       "50%       55359.000000\n",
       "75%       62147.000000\n",
       "max      940690.000000\n",
       "Name: DISBURSED_AMOUNT, dtype: float64"
      ]
     },
     "execution_count": 13,
     "metadata": {},
     "output_type": "execute_result"
    }
   ],
   "source": [
    "# calculate : mean,min,max,....\n",
    "df['DISBURSED_AMOUNT'].describe()"
   ]
  },
  {
   "cell_type": "code",
   "execution_count": 10,
   "id": "0c173fc9",
   "metadata": {},
   "outputs": [
    {
     "data": {
      "text/plain": [
       "0"
      ]
     },
     "execution_count": 10,
     "metadata": {},
     "output_type": "execute_result"
    }
   ],
   "source": [
    "df['DISBURSED_AMOUNT'].isnull().sum()"
   ]
  },
  {
   "cell_type": "code",
   "execution_count": 12,
   "id": "238549cd",
   "metadata": {},
   "outputs": [
    {
     "data": {
      "image/png": "[encoded data removed]",
      "text/plain": [
       "<Figure size 640x480 with 1 Axes>"
      ]
     },
     "metadata": {},
     "output_type": "display_data"
    }
   ],
   "source": [
    "plt.boxplot(df['DISBURSED_AMOUNT']);"
   ]
  },
  {
   "cell_type": "code",
   "execution_count": 44,
   "id": "3618cb67",
   "metadata": {
    "scrolled": true
   },
   "outputs": [
    {
     "data": {
      "text/plain": [
       "2      7389\n",
       "3      5651\n",
       "67     4634\n",
       "138    3518\n",
       "147    3098\n",
       "       ... \n",
       "142     235\n",
       "66      229\n",
       "260     163\n",
       "111      56\n",
       "158      32\n",
       "Name: BRANCH_ID, Length: 82, dtype: int64"
      ]
     },
     "execution_count": 44,
     "metadata": {},
     "output_type": "execute_result"
    }
   ],
   "source": [
    "# categorical type \n",
    "df['BRANCH_ID']= df['BRANCH_ID'].astype(\"category\")\n",
    "df['BRANCH_ID'].value_counts()"
   ]
  },
  {
   "cell_type": "code",
   "execution_count": 81,
   "id": "05822166",
   "metadata": {},
   "outputs": [
    {
     "data": {
      "image/png": "[encoded data removed]",
      "text/plain": [
       "<Figure size 640x480 with 1 Axes>"
      ]
     },
     "metadata": {},
     "output_type": "display_data"
    }
   ],
   "source": [
    "plt.boxplot(df['MANUFACTURER_ID'].value_counts());"
   ]
  },
  {
   "cell_type": "code",
   "execution_count": 88,
   "id": "855030ba",
   "metadata": {},
   "outputs": [
    {
     "data": {
      "text/plain": [
       "86     51669\n",
       "45     30427\n",
       "51     13723\n",
       "48      6254\n",
       "49      4592\n",
       "120     4391\n",
       "67       959\n",
       "145      360\n",
       "153       13\n",
       "152        3\n",
       "155        1\n",
       "Name: MANUFACTURER_ID, dtype: int64"
      ]
     },
     "execution_count": 88,
     "metadata": {},
     "output_type": "execute_result"
    }
   ],
   "source": [
    "df['MANUFACTURER_ID'].value_counts()"
   ]
  },
  {
   "cell_type": "code",
   "execution_count": 78,
   "id": "9964ab1d",
   "metadata": {},
   "outputs": [
    {
     "data": {
      "image/png": "[encoded data removed]",
      "text/plain": [
       "<Figure size 640x480 with 1 Axes>"
      ]
     },
     "metadata": {},
     "output_type": "display_data"
    }
   ],
   "source": [
    "plt.bar(df['MANUFACTURER_ID'],df['ASSET_COST']);"
   ]
  },
  {
   "cell_type": "code",
   "execution_count": null,
   "id": "45a9d865",
   "metadata": {},
   "outputs": [],
   "source": []
  }
 ],
 "metadata": {
  "kernelspec": {
   "display_name": "Python 3 (ipykernel)",
   "language": "python",
   "name": "python3"
  },
  "language_info": {
   "codemirror_mode": {
    "name": "ipython",
    "version": 3
   },
   "file_extension": ".py",
   "mimetype": "text/x-python",
   "name": "python",
   "nbconvert_exporter": "python",
   "pygments_lexer": "ipython3",
   "version": "3.9.13"
  }
 },
 "nbformat": 4,
 "nbformat_minor": 5
}
