{
 "cells": [
  {
   "cell_type": "code",
   "execution_count": 1,
   "id": "55046520",
   "metadata": {},
   "outputs": [],
   "source": [
    "import pandas as pd\n",
    "import numpy as np\n",
    "import matplotlib.pyplot as plt\n",
    "import seaborn as sns\n"
   ]
  },
  {
   "cell_type": "code",
   "execution_count": 2,
   "id": "c777b3da",
   "metadata": {},
   "outputs": [],
   "source": [
    "df=pd.read_csv('Loan_Defaults.csv')"
   ]
  },
  {
   "cell_type": "code",
   "execution_count": 3,
   "id": "7d8170a3",
   "metadata": {
    "scrolled": false
   },
   "outputs": [
    {
     "data": {
      "text/html": [
       "<div>\n",
       "<style scoped>\n",
       "    .dataframe tbody tr th:only-of-type {\n",
       "        vertical-align: middle;\n",
       "    }\n",
       "\n",
       "    .dataframe tbody tr th {\n",
       "        vertical-align: top;\n",
       "    }\n",
       "\n",
       "    .dataframe thead th {\n",
       "        text-align: right;\n",
       "    }\n",
       "</style>\n",
       "<table border=\"1\" class=\"dataframe\">\n",
       "  <thead>\n",
       "    <tr style=\"text-align: right;\">\n",
       "      <th></th>\n",
       "      <th>UNIQUEID</th>\n",
       "      <th>DISBURSED_AMOUNT</th>\n",
       "      <th>ASSET_COST</th>\n",
       "      <th>LTV</th>\n",
       "      <th>BRANCH_ID</th>\n",
       "      <th>SUPPLIER_ID</th>\n",
       "      <th>MANUFACTURER_ID</th>\n",
       "      <th>CURRENT_PINCODE_ID</th>\n",
       "      <th>DATE_OF_BIRTH</th>\n",
       "      <th>EMPLOYMENT_TYPE</th>\n",
       "      <th>...</th>\n",
       "      <th>SEC_CURRENT_BALANCE</th>\n",
       "      <th>SEC_SANCTIONED_AMOUNT</th>\n",
       "      <th>SEC_DISBURSED_AMOUNT</th>\n",
       "      <th>PRIMARY_INSTAL_AMT</th>\n",
       "      <th>SEC_INSTAL_AMT</th>\n",
       "      <th>NEW_ACCTS_IN_LAST_SIX_MONTHS</th>\n",
       "      <th>DELINQUENT_ACCTS_IN_LAST_SIX_MONTHS</th>\n",
       "      <th>AVERAGE_ACCT_AGE</th>\n",
       "      <th>CREDIT_HISTORY_LENGTH</th>\n",
       "      <th>NO_OF_INQUIRIES</th>\n",
       "    </tr>\n",
       "  </thead>\n",
       "  <tbody>\n",
       "    <tr>\n",
       "      <th>0</th>\n",
       "      <td>655269</td>\n",
       "      <td>53478</td>\n",
       "      <td>63558</td>\n",
       "      <td>86.54</td>\n",
       "      <td>67</td>\n",
       "      <td>22807</td>\n",
       "      <td>45</td>\n",
       "      <td>1497</td>\n",
       "      <td>01-01-1974</td>\n",
       "      <td>Salaried</td>\n",
       "      <td>...</td>\n",
       "      <td>0</td>\n",
       "      <td>0</td>\n",
       "      <td>0</td>\n",
       "      <td>0</td>\n",
       "      <td>0</td>\n",
       "      <td>0</td>\n",
       "      <td>0</td>\n",
       "      <td>0yrs 0mon</td>\n",
       "      <td>0yrs 0mon</td>\n",
       "      <td>0</td>\n",
       "    </tr>\n",
       "    <tr>\n",
       "      <th>1</th>\n",
       "      <td>723482</td>\n",
       "      <td>55513</td>\n",
       "      <td>63163</td>\n",
       "      <td>89.45</td>\n",
       "      <td>67</td>\n",
       "      <td>22807</td>\n",
       "      <td>45</td>\n",
       "      <td>1497</td>\n",
       "      <td>20-05-1985</td>\n",
       "      <td>Self employed</td>\n",
       "      <td>...</td>\n",
       "      <td>0</td>\n",
       "      <td>0</td>\n",
       "      <td>0</td>\n",
       "      <td>5605</td>\n",
       "      <td>0</td>\n",
       "      <td>1</td>\n",
       "      <td>0</td>\n",
       "      <td>0yrs 8mon</td>\n",
       "      <td>1yrs 0mon</td>\n",
       "      <td>1</td>\n",
       "    </tr>\n",
       "    <tr>\n",
       "      <th>2</th>\n",
       "      <td>758529</td>\n",
       "      <td>65282</td>\n",
       "      <td>84320</td>\n",
       "      <td>79.93</td>\n",
       "      <td>78</td>\n",
       "      <td>23135</td>\n",
       "      <td>86</td>\n",
       "      <td>2071</td>\n",
       "      <td>14-10-1995</td>\n",
       "      <td>Salaried</td>\n",
       "      <td>...</td>\n",
       "      <td>0</td>\n",
       "      <td>0</td>\n",
       "      <td>0</td>\n",
       "      <td>0</td>\n",
       "      <td>0</td>\n",
       "      <td>0</td>\n",
       "      <td>0</td>\n",
       "      <td>0yrs 0mon</td>\n",
       "      <td>0yrs 0mon</td>\n",
       "      <td>0</td>\n",
       "    </tr>\n",
       "    <tr>\n",
       "      <th>3</th>\n",
       "      <td>763449</td>\n",
       "      <td>46905</td>\n",
       "      <td>63896</td>\n",
       "      <td>76.58</td>\n",
       "      <td>78</td>\n",
       "      <td>17014</td>\n",
       "      <td>45</td>\n",
       "      <td>2070</td>\n",
       "      <td>01-06-1973</td>\n",
       "      <td>Self employed</td>\n",
       "      <td>...</td>\n",
       "      <td>0</td>\n",
       "      <td>0</td>\n",
       "      <td>0</td>\n",
       "      <td>0</td>\n",
       "      <td>0</td>\n",
       "      <td>0</td>\n",
       "      <td>0</td>\n",
       "      <td>2yrs 5mon</td>\n",
       "      <td>2yrs 5mon</td>\n",
       "      <td>0</td>\n",
       "    </tr>\n",
       "    <tr>\n",
       "      <th>4</th>\n",
       "      <td>708663</td>\n",
       "      <td>51428</td>\n",
       "      <td>63896</td>\n",
       "      <td>86.08</td>\n",
       "      <td>78</td>\n",
       "      <td>17014</td>\n",
       "      <td>45</td>\n",
       "      <td>2069</td>\n",
       "      <td>01-06-1972</td>\n",
       "      <td>Salaried</td>\n",
       "      <td>...</td>\n",
       "      <td>0</td>\n",
       "      <td>0</td>\n",
       "      <td>0</td>\n",
       "      <td>0</td>\n",
       "      <td>0</td>\n",
       "      <td>0</td>\n",
       "      <td>0</td>\n",
       "      <td>0yrs 0mon</td>\n",
       "      <td>0yrs 0mon</td>\n",
       "      <td>0</td>\n",
       "    </tr>\n",
       "  </tbody>\n",
       "</table>\n",
       "<p>5 rows × 40 columns</p>\n",
       "</div>"
      ],
      "text/plain": [
       "   UNIQUEID  DISBURSED_AMOUNT  ASSET_COST    LTV  BRANCH_ID  SUPPLIER_ID  \\\n",
       "0    655269             53478       63558  86.54         67        22807   \n",
       "1    723482             55513       63163  89.45         67        22807   \n",
       "2    758529             65282       84320  79.93         78        23135   \n",
       "3    763449             46905       63896  76.58         78        17014   \n",
       "4    708663             51428       63896  86.08         78        17014   \n",
       "\n",
       "   MANUFACTURER_ID  CURRENT_PINCODE_ID DATE_OF_BIRTH EMPLOYMENT_TYPE  ...  \\\n",
       "0               45                1497    01-01-1974        Salaried  ...   \n",
       "1               45                1497    20-05-1985   Self employed  ...   \n",
       "2               86                2071    14-10-1995        Salaried  ...   \n",
       "3               45                2070    01-06-1973   Self employed  ...   \n",
       "4               45                2069    01-06-1972        Salaried  ...   \n",
       "\n",
       "  SEC_CURRENT_BALANCE  SEC_SANCTIONED_AMOUNT  SEC_DISBURSED_AMOUNT  \\\n",
       "0                   0                      0                     0   \n",
       "1                   0                      0                     0   \n",
       "2                   0                      0                     0   \n",
       "3                   0                      0                     0   \n",
       "4                   0                      0                     0   \n",
       "\n",
       "   PRIMARY_INSTAL_AMT  SEC_INSTAL_AMT  NEW_ACCTS_IN_LAST_SIX_MONTHS  \\\n",
       "0                   0               0                             0   \n",
       "1                5605               0                             1   \n",
       "2                   0               0                             0   \n",
       "3                   0               0                             0   \n",
       "4                   0               0                             0   \n",
       "\n",
       "   DELINQUENT_ACCTS_IN_LAST_SIX_MONTHS  AVERAGE_ACCT_AGE  \\\n",
       "0                                    0         0yrs 0mon   \n",
       "1                                    0         0yrs 8mon   \n",
       "2                                    0         0yrs 0mon   \n",
       "3                                    0         2yrs 5mon   \n",
       "4                                    0         0yrs 0mon   \n",
       "\n",
       "   CREDIT_HISTORY_LENGTH  NO_OF_INQUIRIES  \n",
       "0              0yrs 0mon                0  \n",
       "1              1yrs 0mon                1  \n",
       "2              0yrs 0mon                0  \n",
       "3              2yrs 5mon                0  \n",
       "4              0yrs 0mon                0  \n",
       "\n",
       "[5 rows x 40 columns]"
      ]
     },
     "execution_count": 3,
     "metadata": {},
     "output_type": "execute_result"
    }
   ],
   "source": [
    "df.head()"
   ]
  },
  {
   "cell_type": "code",
   "execution_count": 4,
   "id": "0dd5dbfc",
   "metadata": {
    "scrolled": true
   },
   "outputs": [
    {
     "name": "stdout",
     "output_type": "stream",
     "text": [
      "<class 'pandas.core.frame.DataFrame'>\n",
      "RangeIndex: 112392 entries, 0 to 112391\n",
      "Data columns (total 40 columns):\n",
      " #   Column                               Non-Null Count   Dtype  \n",
      "---  ------                               --------------   -----  \n",
      " 0   UNIQUEID                             112392 non-null  int64  \n",
      " 1   DISBURSED_AMOUNT                     112392 non-null  int64  \n",
      " 2   ASSET_COST                           112392 non-null  int64  \n",
      " 3   LTV                                  112392 non-null  float64\n",
      " 4   BRANCH_ID                            112392 non-null  int64  \n",
      " 5   SUPPLIER_ID                          112392 non-null  int64  \n",
      " 6   MANUFACTURER_ID                      112392 non-null  int64  \n",
      " 7   CURRENT_PINCODE_ID                   112392 non-null  int64  \n",
      " 8   DATE_OF_BIRTH                        112392 non-null  object \n",
      " 9   EMPLOYMENT_TYPE                      108949 non-null  object \n",
      " 10  DISBURSAL_DATE                       112392 non-null  object \n",
      " 11  STATE_ID                             112392 non-null  int64  \n",
      " 12  EMPLOYEE_CODE_ID                     112392 non-null  int64  \n",
      " 13  MOBILENO_AVL_FLAG                    112392 non-null  int64  \n",
      " 14  AADHAR_FLAG                          112392 non-null  int64  \n",
      " 15  PAN_FLAG                             112392 non-null  int64  \n",
      " 16  VOTERID_FLAG                         112392 non-null  int64  \n",
      " 17  DRIVING_FLAG                         112392 non-null  int64  \n",
      " 18  PASSPORT_FLAG                        112392 non-null  int64  \n",
      " 19  PERFORM_CNS_SCORE                    112392 non-null  int64  \n",
      " 20  PERFORM_CNS_SCORE_DESCRIPTION        112392 non-null  object \n",
      " 21  PRI_NO_OF_ACCTS                      112392 non-null  int64  \n",
      " 22  PRI_ACTIVE_ACCTS                     112392 non-null  int64  \n",
      " 23  PRI_OVERDUE_ACCTS                    112392 non-null  int64  \n",
      " 24  PRI_CURRENT_BALANCE                  112392 non-null  int64  \n",
      " 25  PRI_SANCTIONED_AMOUNT                112392 non-null  int64  \n",
      " 26  PRI_DISBURSED_AMOUNT                 112392 non-null  int64  \n",
      " 27  SEC_NO_OF_ACCTS                      112392 non-null  int64  \n",
      " 28  SEC_ACTIVE_ACCTS                     112392 non-null  int64  \n",
      " 29  SEC_OVERDUE_ACCTS                    112392 non-null  int64  \n",
      " 30  SEC_CURRENT_BALANCE                  112392 non-null  int64  \n",
      " 31  SEC_SANCTIONED_AMOUNT                112392 non-null  int64  \n",
      " 32  SEC_DISBURSED_AMOUNT                 112392 non-null  int64  \n",
      " 33  PRIMARY_INSTAL_AMT                   112392 non-null  int64  \n",
      " 34  SEC_INSTAL_AMT                       112392 non-null  int64  \n",
      " 35  NEW_ACCTS_IN_LAST_SIX_MONTHS         112392 non-null  int64  \n",
      " 36  DELINQUENT_ACCTS_IN_LAST_SIX_MONTHS  112392 non-null  int64  \n",
      " 37  AVERAGE_ACCT_AGE                     112392 non-null  object \n",
      " 38  CREDIT_HISTORY_LENGTH                112392 non-null  object \n",
      " 39  NO_OF_INQUIRIES                      112392 non-null  int64  \n",
      "dtypes: float64(1), int64(33), object(6)\n",
      "memory usage: 34.3+ MB\n"
     ]
    }
   ],
   "source": [
    "df.info()"
   ]
  },
  {
   "cell_type": "code",
   "execution_count": 5,
   "id": "bffe7722",
   "metadata": {
    "scrolled": true
   },
   "outputs": [
    {
     "data": {
      "text/html": [
       "<div>\n",
       "<style scoped>\n",
       "    .dataframe tbody tr th:only-of-type {\n",
       "        vertical-align: middle;\n",
       "    }\n",
       "\n",
       "    .dataframe tbody tr th {\n",
       "        vertical-align: top;\n",
       "    }\n",
       "\n",
       "    .dataframe thead th {\n",
       "        text-align: right;\n",
       "    }\n",
       "</style>\n",
       "<table border=\"1\" class=\"dataframe\">\n",
       "  <thead>\n",
       "    <tr style=\"text-align: right;\">\n",
       "      <th></th>\n",
       "      <th>UNIQUEID</th>\n",
       "      <th>DISBURSED_AMOUNT</th>\n",
       "      <th>ASSET_COST</th>\n",
       "      <th>LTV</th>\n",
       "      <th>BRANCH_ID</th>\n",
       "      <th>SUPPLIER_ID</th>\n",
       "      <th>MANUFACTURER_ID</th>\n",
       "      <th>CURRENT_PINCODE_ID</th>\n",
       "      <th>STATE_ID</th>\n",
       "      <th>EMPLOYEE_CODE_ID</th>\n",
       "      <th>...</th>\n",
       "      <th>SEC_ACTIVE_ACCTS</th>\n",
       "      <th>SEC_OVERDUE_ACCTS</th>\n",
       "      <th>SEC_CURRENT_BALANCE</th>\n",
       "      <th>SEC_SANCTIONED_AMOUNT</th>\n",
       "      <th>SEC_DISBURSED_AMOUNT</th>\n",
       "      <th>PRIMARY_INSTAL_AMT</th>\n",
       "      <th>SEC_INSTAL_AMT</th>\n",
       "      <th>NEW_ACCTS_IN_LAST_SIX_MONTHS</th>\n",
       "      <th>DELINQUENT_ACCTS_IN_LAST_SIX_MONTHS</th>\n",
       "      <th>NO_OF_INQUIRIES</th>\n",
       "    </tr>\n",
       "  </thead>\n",
       "  <tbody>\n",
       "    <tr>\n",
       "      <th>count</th>\n",
       "      <td>112392.000000</td>\n",
       "      <td>112392.000000</td>\n",
       "      <td>1.123920e+05</td>\n",
       "      <td>112392.000000</td>\n",
       "      <td>112392.000000</td>\n",
       "      <td>112392.000000</td>\n",
       "      <td>112392.000000</td>\n",
       "      <td>112392.000000</td>\n",
       "      <td>112392.000000</td>\n",
       "      <td>112392.000000</td>\n",
       "      <td>...</td>\n",
       "      <td>112392.000000</td>\n",
       "      <td>112392.000000</td>\n",
       "      <td>1.123920e+05</td>\n",
       "      <td>1.123920e+05</td>\n",
       "      <td>1.123920e+05</td>\n",
       "      <td>1.123920e+05</td>\n",
       "      <td>1.123920e+05</td>\n",
       "      <td>112392.000000</td>\n",
       "      <td>112392.000000</td>\n",
       "      <td>112392.000000</td>\n",
       "    </tr>\n",
       "    <tr>\n",
       "      <th>mean</th>\n",
       "      <td>711741.891861</td>\n",
       "      <td>56076.803269</td>\n",
       "      <td>7.718639e+04</td>\n",
       "      <td>75.310325</td>\n",
       "      <td>78.902591</td>\n",
       "      <td>19843.303545</td>\n",
       "      <td>68.366031</td>\n",
       "      <td>3014.001352</td>\n",
       "      <td>7.215754</td>\n",
       "      <td>1771.651541</td>\n",
       "      <td>...</td>\n",
       "      <td>0.012350</td>\n",
       "      <td>0.003176</td>\n",
       "      <td>2.776081e+03</td>\n",
       "      <td>3.721477e+03</td>\n",
       "      <td>3.671156e+03</td>\n",
       "      <td>1.123698e+04</td>\n",
       "      <td>1.679060e+02</td>\n",
       "      <td>0.314907</td>\n",
       "      <td>0.091884</td>\n",
       "      <td>0.226119</td>\n",
       "    </tr>\n",
       "    <tr>\n",
       "      <th>std</th>\n",
       "      <td>33492.215991</td>\n",
       "      <td>13123.697627</td>\n",
       "      <td>1.827149e+04</td>\n",
       "      <td>11.006380</td>\n",
       "      <td>71.469633</td>\n",
       "      <td>3555.303301</td>\n",
       "      <td>22.137265</td>\n",
       "      <td>2223.215364</td>\n",
       "      <td>4.679847</td>\n",
       "      <td>1104.533635</td>\n",
       "      <td>...</td>\n",
       "      <td>0.198374</td>\n",
       "      <td>0.073784</td>\n",
       "      <td>1.406059e+05</td>\n",
       "      <td>2.015516e+05</td>\n",
       "      <td>2.013686e+05</td>\n",
       "      <td>2.741250e+05</td>\n",
       "      <td>1.763841e+04</td>\n",
       "      <td>0.843406</td>\n",
       "      <td>0.381809</td>\n",
       "      <td>0.739231</td>\n",
       "    </tr>\n",
       "    <tr>\n",
       "      <th>min</th>\n",
       "      <td>654115.000000</td>\n",
       "      <td>11613.000000</td>\n",
       "      <td>4.011700e+04</td>\n",
       "      <td>10.030000</td>\n",
       "      <td>1.000000</td>\n",
       "      <td>10524.000000</td>\n",
       "      <td>45.000000</td>\n",
       "      <td>1.000000</td>\n",
       "      <td>1.000000</td>\n",
       "      <td>1.000000</td>\n",
       "      <td>...</td>\n",
       "      <td>0.000000</td>\n",
       "      <td>0.000000</td>\n",
       "      <td>-3.882000e+03</td>\n",
       "      <td>0.000000e+00</td>\n",
       "      <td>0.000000e+00</td>\n",
       "      <td>0.000000e+00</td>\n",
       "      <td>0.000000e+00</td>\n",
       "      <td>0.000000</td>\n",
       "      <td>0.000000</td>\n",
       "      <td>0.000000</td>\n",
       "    </tr>\n",
       "    <tr>\n",
       "      <th>25%</th>\n",
       "      <td>682658.750000</td>\n",
       "      <td>48849.000000</td>\n",
       "      <td>6.751000e+04</td>\n",
       "      <td>69.970000</td>\n",
       "      <td>15.000000</td>\n",
       "      <td>16633.000000</td>\n",
       "      <td>45.000000</td>\n",
       "      <td>1312.000000</td>\n",
       "      <td>4.000000</td>\n",
       "      <td>801.000000</td>\n",
       "      <td>...</td>\n",
       "      <td>0.000000</td>\n",
       "      <td>0.000000</td>\n",
       "      <td>0.000000e+00</td>\n",
       "      <td>0.000000e+00</td>\n",
       "      <td>0.000000e+00</td>\n",
       "      <td>0.000000e+00</td>\n",
       "      <td>0.000000e+00</td>\n",
       "      <td>0.000000</td>\n",
       "      <td>0.000000</td>\n",
       "      <td>0.000000</td>\n",
       "    </tr>\n",
       "    <tr>\n",
       "      <th>50%</th>\n",
       "      <td>711522.500000</td>\n",
       "      <td>55359.000000</td>\n",
       "      <td>7.258400e+04</td>\n",
       "      <td>77.780000</td>\n",
       "      <td>67.000000</td>\n",
       "      <td>20675.000000</td>\n",
       "      <td>86.000000</td>\n",
       "      <td>2412.000000</td>\n",
       "      <td>6.000000</td>\n",
       "      <td>1664.000000</td>\n",
       "      <td>...</td>\n",
       "      <td>0.000000</td>\n",
       "      <td>0.000000</td>\n",
       "      <td>0.000000e+00</td>\n",
       "      <td>0.000000e+00</td>\n",
       "      <td>0.000000e+00</td>\n",
       "      <td>0.000000e+00</td>\n",
       "      <td>0.000000e+00</td>\n",
       "      <td>0.000000</td>\n",
       "      <td>0.000000</td>\n",
       "      <td>0.000000</td>\n",
       "    </tr>\n",
       "    <tr>\n",
       "      <th>75%</th>\n",
       "      <td>740851.250000</td>\n",
       "      <td>62147.000000</td>\n",
       "      <td>8.004000e+04</td>\n",
       "      <td>83.740000</td>\n",
       "      <td>136.000000</td>\n",
       "      <td>23170.000000</td>\n",
       "      <td>86.000000</td>\n",
       "      <td>5092.000000</td>\n",
       "      <td>10.000000</td>\n",
       "      <td>2694.000000</td>\n",
       "      <td>...</td>\n",
       "      <td>0.000000</td>\n",
       "      <td>0.000000</td>\n",
       "      <td>0.000000e+00</td>\n",
       "      <td>0.000000e+00</td>\n",
       "      <td>0.000000e+00</td>\n",
       "      <td>1.855000e+03</td>\n",
       "      <td>0.000000e+00</td>\n",
       "      <td>0.000000</td>\n",
       "      <td>0.000000</td>\n",
       "      <td>0.000000</td>\n",
       "    </tr>\n",
       "    <tr>\n",
       "      <th>max</th>\n",
       "      <td>769909.000000</td>\n",
       "      <td>940690.000000</td>\n",
       "      <td>1.271553e+06</td>\n",
       "      <td>95.000000</td>\n",
       "      <td>261.000000</td>\n",
       "      <td>24901.000000</td>\n",
       "      <td>155.000000</td>\n",
       "      <td>7345.000000</td>\n",
       "      <td>22.000000</td>\n",
       "      <td>3923.000000</td>\n",
       "      <td>...</td>\n",
       "      <td>20.000000</td>\n",
       "      <td>8.000000</td>\n",
       "      <td>3.579410e+07</td>\n",
       "      <td>5.794500e+07</td>\n",
       "      <td>5.794500e+07</td>\n",
       "      <td>8.526233e+07</td>\n",
       "      <td>5.390000e+06</td>\n",
       "      <td>22.000000</td>\n",
       "      <td>18.000000</td>\n",
       "      <td>23.000000</td>\n",
       "    </tr>\n",
       "  </tbody>\n",
       "</table>\n",
       "<p>8 rows × 34 columns</p>\n",
       "</div>"
      ],
      "text/plain": [
       "            UNIQUEID  DISBURSED_AMOUNT    ASSET_COST            LTV  \\\n",
       "count  112392.000000     112392.000000  1.123920e+05  112392.000000   \n",
       "mean   711741.891861      56076.803269  7.718639e+04      75.310325   \n",
       "std     33492.215991      13123.697627  1.827149e+04      11.006380   \n",
       "min    654115.000000      11613.000000  4.011700e+04      10.030000   \n",
       "25%    682658.750000      48849.000000  6.751000e+04      69.970000   \n",
       "50%    711522.500000      55359.000000  7.258400e+04      77.780000   \n",
       "75%    740851.250000      62147.000000  8.004000e+04      83.740000   \n",
       "max    769909.000000     940690.000000  1.271553e+06      95.000000   \n",
       "\n",
       "           BRANCH_ID    SUPPLIER_ID  MANUFACTURER_ID  CURRENT_PINCODE_ID  \\\n",
       "count  112392.000000  112392.000000    112392.000000       112392.000000   \n",
       "mean       78.902591   19843.303545        68.366031         3014.001352   \n",
       "std        71.469633    3555.303301        22.137265         2223.215364   \n",
       "min         1.000000   10524.000000        45.000000            1.000000   \n",
       "25%        15.000000   16633.000000        45.000000         1312.000000   \n",
       "50%        67.000000   20675.000000        86.000000         2412.000000   \n",
       "75%       136.000000   23170.000000        86.000000         5092.000000   \n",
       "max       261.000000   24901.000000       155.000000         7345.000000   \n",
       "\n",
       "            STATE_ID  EMPLOYEE_CODE_ID  ...  SEC_ACTIVE_ACCTS  \\\n",
       "count  112392.000000     112392.000000  ...     112392.000000   \n",
       "mean        7.215754       1771.651541  ...          0.012350   \n",
       "std         4.679847       1104.533635  ...          0.198374   \n",
       "min         1.000000          1.000000  ...          0.000000   \n",
       "25%         4.000000        801.000000  ...          0.000000   \n",
       "50%         6.000000       1664.000000  ...          0.000000   \n",
       "75%        10.000000       2694.000000  ...          0.000000   \n",
       "max        22.000000       3923.000000  ...         20.000000   \n",
       "\n",
       "       SEC_OVERDUE_ACCTS  SEC_CURRENT_BALANCE  SEC_SANCTIONED_AMOUNT  \\\n",
       "count      112392.000000         1.123920e+05           1.123920e+05   \n",
       "mean            0.003176         2.776081e+03           3.721477e+03   \n",
       "std             0.073784         1.406059e+05           2.015516e+05   \n",
       "min             0.000000        -3.882000e+03           0.000000e+00   \n",
       "25%             0.000000         0.000000e+00           0.000000e+00   \n",
       "50%             0.000000         0.000000e+00           0.000000e+00   \n",
       "75%             0.000000         0.000000e+00           0.000000e+00   \n",
       "max             8.000000         3.579410e+07           5.794500e+07   \n",
       "\n",
       "       SEC_DISBURSED_AMOUNT  PRIMARY_INSTAL_AMT  SEC_INSTAL_AMT  \\\n",
       "count          1.123920e+05        1.123920e+05    1.123920e+05   \n",
       "mean           3.671156e+03        1.123698e+04    1.679060e+02   \n",
       "std            2.013686e+05        2.741250e+05    1.763841e+04   \n",
       "min            0.000000e+00        0.000000e+00    0.000000e+00   \n",
       "25%            0.000000e+00        0.000000e+00    0.000000e+00   \n",
       "50%            0.000000e+00        0.000000e+00    0.000000e+00   \n",
       "75%            0.000000e+00        1.855000e+03    0.000000e+00   \n",
       "max            5.794500e+07        8.526233e+07    5.390000e+06   \n",
       "\n",
       "       NEW_ACCTS_IN_LAST_SIX_MONTHS  DELINQUENT_ACCTS_IN_LAST_SIX_MONTHS  \\\n",
       "count                 112392.000000                        112392.000000   \n",
       "mean                       0.314907                             0.091884   \n",
       "std                        0.843406                             0.381809   \n",
       "min                        0.000000                             0.000000   \n",
       "25%                        0.000000                             0.000000   \n",
       "50%                        0.000000                             0.000000   \n",
       "75%                        0.000000                             0.000000   \n",
       "max                       22.000000                            18.000000   \n",
       "\n",
       "       NO_OF_INQUIRIES  \n",
       "count    112392.000000  \n",
       "mean          0.226119  \n",
       "std           0.739231  \n",
       "min           0.000000  \n",
       "25%           0.000000  \n",
       "50%           0.000000  \n",
       "75%           0.000000  \n",
       "max          23.000000  \n",
       "\n",
       "[8 rows x 34 columns]"
      ]
     },
     "execution_count": 5,
     "metadata": {},
     "output_type": "execute_result"
    }
   ],
   "source": [
    "df.describe()"
   ]
  },
  {
   "cell_type": "code",
   "execution_count": 6,
   "id": "efd4113a",
   "metadata": {},
   "outputs": [
    {
     "data": {
      "text/html": [
       "<div>\n",
       "<style scoped>\n",
       "    .dataframe tbody tr th:only-of-type {\n",
       "        vertical-align: middle;\n",
       "    }\n",
       "\n",
       "    .dataframe tbody tr th {\n",
       "        vertical-align: top;\n",
       "    }\n",
       "\n",
       "    .dataframe thead th {\n",
       "        text-align: right;\n",
       "    }\n",
       "</style>\n",
       "<table border=\"1\" class=\"dataframe\">\n",
       "  <thead>\n",
       "    <tr style=\"text-align: right;\">\n",
       "      <th></th>\n",
       "      <th>DATE_OF_BIRTH</th>\n",
       "      <th>EMPLOYMENT_TYPE</th>\n",
       "      <th>DISBURSAL_DATE</th>\n",
       "      <th>PERFORM_CNS_SCORE_DESCRIPTION</th>\n",
       "      <th>AVERAGE_ACCT_AGE</th>\n",
       "      <th>CREDIT_HISTORY_LENGTH</th>\n",
       "    </tr>\n",
       "  </thead>\n",
       "  <tbody>\n",
       "    <tr>\n",
       "      <th>count</th>\n",
       "      <td>112392</td>\n",
       "      <td>108949</td>\n",
       "      <td>112392</td>\n",
       "      <td>112392</td>\n",
       "      <td>112392</td>\n",
       "      <td>112392</td>\n",
       "    </tr>\n",
       "    <tr>\n",
       "      <th>unique</th>\n",
       "      <td>14052</td>\n",
       "      <td>2</td>\n",
       "      <td>27</td>\n",
       "      <td>19</td>\n",
       "      <td>176</td>\n",
       "      <td>252</td>\n",
       "    </tr>\n",
       "    <tr>\n",
       "      <th>top</th>\n",
       "      <td>01-01-1988</td>\n",
       "      <td>Self employed</td>\n",
       "      <td>15-11-2018</td>\n",
       "      <td>No Bureau History Available</td>\n",
       "      <td>0yrs 0mon</td>\n",
       "      <td>0yrs 0mon</td>\n",
       "    </tr>\n",
       "    <tr>\n",
       "      <th>freq</th>\n",
       "      <td>1057</td>\n",
       "      <td>59794</td>\n",
       "      <td>7803</td>\n",
       "      <td>57893</td>\n",
       "      <td>58108</td>\n",
       "      <td>58051</td>\n",
       "    </tr>\n",
       "  </tbody>\n",
       "</table>\n",
       "</div>"
      ],
      "text/plain": [
       "       DATE_OF_BIRTH EMPLOYMENT_TYPE DISBURSAL_DATE  \\\n",
       "count         112392          108949         112392   \n",
       "unique         14052               2             27   \n",
       "top       01-01-1988   Self employed     15-11-2018   \n",
       "freq            1057           59794           7803   \n",
       "\n",
       "       PERFORM_CNS_SCORE_DESCRIPTION AVERAGE_ACCT_AGE CREDIT_HISTORY_LENGTH  \n",
       "count                         112392           112392                112392  \n",
       "unique                            19              176                   252  \n",
       "top      No Bureau History Available        0yrs 0mon             0yrs 0mon  \n",
       "freq                           57893            58108                 58051  "
      ]
     },
     "execution_count": 6,
     "metadata": {},
     "output_type": "execute_result"
    }
   ],
   "source": [
    "df.describe(include=['O'])"
   ]
  },
  {
   "cell_type": "code",
   "execution_count": 7,
   "id": "5a3b8e40",
   "metadata": {},
   "outputs": [
    {
     "data": {
      "text/plain": [
       "0      57893\n",
       "1      16936\n",
       "2       9469\n",
       "3       6394\n",
       "4       4435\n",
       "       ...  \n",
       "80         1\n",
       "77         1\n",
       "71         1\n",
       "118        1\n",
       "48         1\n",
       "Name: PRI_NO_OF_ACCTS, Length: 83, dtype: int64"
      ]
     },
     "execution_count": 7,
     "metadata": {},
     "output_type": "execute_result"
    }
   ],
   "source": [
    "df['PRI_NO_OF_ACCTS'].value_counts()"
   ]
  },
  {
   "cell_type": "markdown",
   "id": "0e21cb68",
   "metadata": {},
   "source": [
    "# check null values"
   ]
  },
  {
   "cell_type": "code",
   "execution_count": 8,
   "id": "2caff88e",
   "metadata": {
    "scrolled": true
   },
   "outputs": [
    {
     "data": {
      "text/plain": [
       "UNIQUEID                                  0\n",
       "DISBURSED_AMOUNT                          0\n",
       "ASSET_COST                                0\n",
       "LTV                                       0\n",
       "BRANCH_ID                                 0\n",
       "SUPPLIER_ID                               0\n",
       "MANUFACTURER_ID                           0\n",
       "CURRENT_PINCODE_ID                        0\n",
       "DATE_OF_BIRTH                             0\n",
       "EMPLOYMENT_TYPE                        3443\n",
       "DISBURSAL_DATE                            0\n",
       "STATE_ID                                  0\n",
       "EMPLOYEE_CODE_ID                          0\n",
       "MOBILENO_AVL_FLAG                         0\n",
       "AADHAR_FLAG                               0\n",
       "PAN_FLAG                                  0\n",
       "VOTERID_FLAG                              0\n",
       "DRIVING_FLAG                              0\n",
       "PASSPORT_FLAG                             0\n",
       "PERFORM_CNS_SCORE                         0\n",
       "PERFORM_CNS_SCORE_DESCRIPTION             0\n",
       "PRI_NO_OF_ACCTS                           0\n",
       "PRI_ACTIVE_ACCTS                          0\n",
       "PRI_OVERDUE_ACCTS                         0\n",
       "PRI_CURRENT_BALANCE                       0\n",
       "PRI_SANCTIONED_AMOUNT                     0\n",
       "PRI_DISBURSED_AMOUNT                      0\n",
       "SEC_NO_OF_ACCTS                           0\n",
       "SEC_ACTIVE_ACCTS                          0\n",
       "SEC_OVERDUE_ACCTS                         0\n",
       "SEC_CURRENT_BALANCE                       0\n",
       "SEC_SANCTIONED_AMOUNT                     0\n",
       "SEC_DISBURSED_AMOUNT                      0\n",
       "PRIMARY_INSTAL_AMT                        0\n",
       "SEC_INSTAL_AMT                            0\n",
       "NEW_ACCTS_IN_LAST_SIX_MONTHS              0\n",
       "DELINQUENT_ACCTS_IN_LAST_SIX_MONTHS       0\n",
       "AVERAGE_ACCT_AGE                          0\n",
       "CREDIT_HISTORY_LENGTH                     0\n",
       "NO_OF_INQUIRIES                           0\n",
       "dtype: int64"
      ]
     },
     "execution_count": 8,
     "metadata": {},
     "output_type": "execute_result"
    }
   ],
   "source": [
    "df.isnull().sum()"
   ]
  },
  {
   "cell_type": "code",
   "execution_count": 9,
   "id": "d57ae148",
   "metadata": {},
   "outputs": [
    {
     "data": {
      "image/png": "[encoded data removed]",
      "text/plain": [
       "<Figure size 1080x720 with 1 Axes>"
      ]
     },
     "metadata": {
      "needs_background": "light"
     },
     "output_type": "display_data"
    }
   ],
   "source": [
    "fig, ax = plt.subplots(figsize=(15,10))\n",
    "sns.heatmap(df.isnull(),cbar=False,cmap='viridis')\n",
    "plt.title('Visualizing Null values')\n",
    "plt.show()"
   ]
  },
  {
   "cell_type": "code",
   "execution_count": 10,
   "id": "283a8d30",
   "metadata": {
    "scrolled": true
   },
   "outputs": [],
   "source": [
    "df[[\"day\", \"month\", \"year\"]] = df[\"DATE_OF_BIRTH\"].str.split(\"-\", expand = True)"
   ]
  },
  {
   "cell_type": "markdown",
   "id": "132a854e",
   "metadata": {},
   "source": [
    "# born year distribution"
   ]
  },
  {
   "cell_type": "code",
   "execution_count": 11,
   "id": "1c47651b",
   "metadata": {
    "scrolled": true
   },
   "outputs": [
    {
     "name": "stderr",
     "output_type": "stream",
     "text": [
      "C:\\Users\\96655\\anaconda3\\lib\\site-packages\\seaborn\\distributions.py:2551: FutureWarning: `distplot` is a deprecated function and will be removed in a future version. Please adapt your code to use either `displot` (a figure-level function with similar flexibility) or `histplot` (an axes-level function for histograms).\n",
      "  warnings.warn(msg, FutureWarning)\n"
     ]
    },
    {
     "data": {
      "image/png": "[encoded data removed]",
      "text/plain": [
       "<Figure size 432x288 with 1 Axes>"
      ]
     },
     "metadata": {
      "needs_background": "light"
     },
     "output_type": "display_data"
    }
   ],
   "source": [
    "sns.distplot(df['year'].astype(int), kde=False, bins=15)\n",
    "plt.ylabel('count');\n"
   ]
  },
  {
   "cell_type": "markdown",
   "id": "0752057a",
   "metadata": {},
   "source": [
    "### the Loan to Value of the asset"
   ]
  },
  {
   "cell_type": "code",
   "execution_count": 40,
   "id": "27e438c8",
   "metadata": {},
   "outputs": [
    {
     "data": {
      "image/png": "[encoded data removed]",
      "text/plain": [
       "<Figure size 432x288 with 1 Axes>"
      ]
     },
     "metadata": {
      "needs_background": "light"
     },
     "output_type": "display_data"
    }
   ],
   "source": [
    "sns.boxplot(x='EMPLOYMENT_TYPE', y='LTV',data=df)\n",
    "plt.title('Employment Type BoxPlot');"
   ]
  },
  {
   "cell_type": "code",
   "execution_count": 21,
   "id": "597a9317",
   "metadata": {},
   "outputs": [],
   "source": [
    "# plt.figure(figsize=(100,100))\n",
    "# df.hist(bins=5,figsize=(30,30));\n"
   ]
  },
  {
   "cell_type": "markdown",
   "id": "cbe0774d",
   "metadata": {},
   "source": [
    "## percentage of the employment type"
   ]
  },
  {
   "cell_type": "code",
   "execution_count": 20,
   "id": "a97d49c5",
   "metadata": {},
   "outputs": [
    {
     "data": {
      "image/png": "[encoded data removed]",
      "text/plain": [
       "<Figure size 432x288 with 1 Axes>"
      ]
     },
     "metadata": {},
     "output_type": "display_data"
    }
   ],
   "source": [
    "plt.pie(df['EMPLOYMENT_TYPE'].value_counts(),autopct='%1.0f%%',labels=['self employed','Salaried']);"
   ]
  },
  {
   "cell_type": "code",
   "execution_count": 22,
   "id": "e294480e",
   "metadata": {
    "scrolled": true
   },
   "outputs": [],
   "source": [
    "# df.head(2)"
   ]
  },
  {
   "cell_type": "code",
   "execution_count": 23,
   "id": "3cd2527f",
   "metadata": {},
   "outputs": [],
   "source": [
    "# sns.pairplot(df[['PRI_CURRENT_BALANCE','PRI_DISBURSED_AMOUNT']])"
   ]
  },
  {
   "cell_type": "code",
   "execution_count": 24,
   "id": "5dc98e02",
   "metadata": {},
   "outputs": [],
   "source": [
    "# sns.lineplot(data=df, x='DISBURSED_AMOUNT', y='ASSET_COST', linewidth = 3);"
   ]
  },
  {
   "cell_type": "markdown",
   "id": "e117983c",
   "metadata": {},
   "source": [
    "### the relation between total active loans and the total amount that was disbursed"
   ]
  },
  {
   "cell_type": "code",
   "execution_count": 25,
   "id": "4248d6fa",
   "metadata": {
    "scrolled": true
   },
   "outputs": [
    {
     "data": {
      "image/png": "[encoded data removed]",
      "text/plain": [
       "<Figure size 432x288 with 1 Axes>"
      ]
     },
     "metadata": {
      "needs_background": "light"
     },
     "output_type": "display_data"
    }
   ],
   "source": [
    "sns.scatterplot(data=df, x='PRI_CURRENT_BALANCE', y='PRI_DISBURSED_AMOUNT');"
   ]
  },
  {
   "cell_type": "code",
   "execution_count": 35,
   "id": "f2d0c064",
   "metadata": {},
   "outputs": [],
   "source": [
    "# sns.scatterplot(data=df, x='PERFORM_CNS_SCORE', y='PERFORM_CNS_SCORE_DESCRIPTION');"
   ]
  },
  {
   "cell_type": "code",
   "execution_count": 26,
   "id": "e95a1132",
   "metadata": {},
   "outputs": [],
   "source": [
    "# df1=df[['MOBILENO_AVL_FLAG','DRIVING_FLAG']]\n",
    "\n",
    "# df2 = df.melt(var_name='Additional service', value_name='Has service')\n",
    "\n",
    "# sns.countplot(x='Additional service', hue='Has service', data=df2)\n",
    "# plt.show()\n"
   ]
  },
  {
   "cell_type": "code",
   "execution_count": 27,
   "id": "e913d08b",
   "metadata": {},
   "outputs": [],
   "source": [
    "# df['STATE_ID'].value_counts()"
   ]
  },
  {
   "cell_type": "code",
   "execution_count": 29,
   "id": "e3c1f884",
   "metadata": {},
   "outputs": [],
   "source": [
    "df['year']=df['year'].astype(int)"
   ]
  },
  {
   "cell_type": "markdown",
   "id": "94bb6b80",
   "metadata": {},
   "source": [
    "### year of birth distribution by the employment type"
   ]
  },
  {
   "cell_type": "code",
   "execution_count": 38,
   "id": "178a2174",
   "metadata": {},
   "outputs": [
    {
     "data": {
      "image/png": "[encoded data removed]",
      "text/plain": [
       "<Figure size 971.25x216 with 1 Axes>"
      ]
     },
     "metadata": {
      "needs_background": "light"
     },
     "output_type": "display_data"
    }
   ],
   "source": [
    "fig = sns.FacetGrid(df, hue=\"EMPLOYMENT_TYPE\", aspect=4)\n",
    "fig.map(sns.kdeplot, 'year', shade=True)\n",
    "oldest = df['year'].max()\n",
    "minst=df['year'].min()\n",
    "fig.set(xlim=(minst, oldest))\n",
    "fig.add_legend();"
   ]
  },
  {
   "cell_type": "code",
   "execution_count": null,
   "id": "e7697667",
   "metadata": {},
   "outputs": [],
   "source": [
    "sns.countplot(x='EMPLOYMENT_TYPE',hue='loan_default',data=df)\n",
    "plt.title('Employment Bar Graph')"
   ]
  },
  {
   "cell_type": "code",
   "execution_count": null,
   "id": "0d2fee71",
   "metadata": {},
   "outputs": [],
   "source": []
  }
 ],
 "metadata": {
  "kernelspec": {
   "display_name": "Python 3",
   "language": "python",
   "name": "python3"
  },
  "language_info": {
   "codemirror_mode": {
    "name": "ipython",
    "version": 3
   },
   "file_extension": ".py",
   "mimetype": "text/x-python",
   "name": "python",
   "nbconvert_exporter": "python",
   "pygments_lexer": "ipython3",
   "version": "3.8.5"
  }
 },
 "nbformat": 4,
 "nbformat_minor": 5
}
