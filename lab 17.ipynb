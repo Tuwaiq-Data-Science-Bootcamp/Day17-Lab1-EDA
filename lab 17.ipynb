{
 "cells": [
  {
   "cell_type": "code",
   "execution_count": 1,
   "id": "229df9de",
   "metadata": {},
   "outputs": [],
   "source": [
    "import pandas as pd"
   ]
  },
  {
   "cell_type": "code",
   "execution_count": 2,
   "id": "f9753dda",
   "metadata": {},
   "outputs": [],
   "source": [
    "df = pd.read_csv(\"Loan_Defaults.csv\")"
   ]
  },
  {
   "cell_type": "code",
   "execution_count": 3,
   "id": "a7bd8b00",
   "metadata": {},
   "outputs": [
    {
     "data": {
      "text/plain": [
       "(112392, 40)"
      ]
     },
     "execution_count": 3,
     "metadata": {},
     "output_type": "execute_result"
    }
   ],
   "source": [
    "df.shape"
   ]
  },
  {
   "cell_type": "code",
   "execution_count": 4,
   "id": "56dff3f6",
   "metadata": {},
   "outputs": [
    {
     "data": {
      "text/plain": [
       "UNIQUEID                                 int64\n",
       "DISBURSED_AMOUNT                         int64\n",
       "ASSET_COST                               int64\n",
       "LTV                                    float64\n",
       "BRANCH_ID                                int64\n",
       "SUPPLIER_ID                              int64\n",
       "MANUFACTURER_ID                          int64\n",
       "CURRENT_PINCODE_ID                       int64\n",
       "DATE_OF_BIRTH                           object\n",
       "EMPLOYMENT_TYPE                         object\n",
       "DISBURSAL_DATE                          object\n",
       "STATE_ID                                 int64\n",
       "EMPLOYEE_CODE_ID                         int64\n",
       "MOBILENO_AVL_FLAG                        int64\n",
       "AADHAR_FLAG                              int64\n",
       "PAN_FLAG                                 int64\n",
       "VOTERID_FLAG                             int64\n",
       "DRIVING_FLAG                             int64\n",
       "PASSPORT_FLAG                            int64\n",
       "PERFORM_CNS_SCORE                        int64\n",
       "PERFORM_CNS_SCORE_DESCRIPTION           object\n",
       "PRI_NO_OF_ACCTS                          int64\n",
       "PRI_ACTIVE_ACCTS                         int64\n",
       "PRI_OVERDUE_ACCTS                        int64\n",
       "PRI_CURRENT_BALANCE                      int64\n",
       "PRI_SANCTIONED_AMOUNT                    int64\n",
       "PRI_DISBURSED_AMOUNT                     int64\n",
       "SEC_NO_OF_ACCTS                          int64\n",
       "SEC_ACTIVE_ACCTS                         int64\n",
       "SEC_OVERDUE_ACCTS                        int64\n",
       "SEC_CURRENT_BALANCE                      int64\n",
       "SEC_SANCTIONED_AMOUNT                    int64\n",
       "SEC_DISBURSED_AMOUNT                     int64\n",
       "PRIMARY_INSTAL_AMT                       int64\n",
       "SEC_INSTAL_AMT                           int64\n",
       "NEW_ACCTS_IN_LAST_SIX_MONTHS             int64\n",
       "DELINQUENT_ACCTS_IN_LAST_SIX_MONTHS      int64\n",
       "AVERAGE_ACCT_AGE                        object\n",
       "CREDIT_HISTORY_LENGTH                   object\n",
       "NO_OF_INQUIRIES                          int64\n",
       "dtype: object"
      ]
     },
     "execution_count": 4,
     "metadata": {},
     "output_type": "execute_result"
    }
   ],
   "source": [
    "df.dtypes"
   ]
  },
  {
   "cell_type": "code",
   "execution_count": 6,
   "id": "6a6db6a2",
   "metadata": {},
   "outputs": [
    {
     "data": {
      "text/plain": [
       "4495680"
      ]
     },
     "execution_count": 6,
     "metadata": {},
     "output_type": "execute_result"
    }
   ],
   "source": [
    "df.size"
   ]
  },
  {
   "cell_type": "code",
   "execution_count": 7,
   "id": "fc604fdc",
   "metadata": {},
   "outputs": [
    {
     "name": "stdout",
     "output_type": "stream",
     "text": [
      "<class 'pandas.core.frame.DataFrame'>\n",
      "RangeIndex: 112392 entries, 0 to 112391\n",
      "Data columns (total 40 columns):\n",
      " #   Column                               Non-Null Count   Dtype  \n",
      "---  ------                               --------------   -----  \n",
      " 0   UNIQUEID                             112392 non-null  int64  \n",
      " 1   DISBURSED_AMOUNT                     112392 non-null  int64  \n",
      " 2   ASSET_COST                           112392 non-null  int64  \n",
      " 3   LTV                                  112392 non-null  float64\n",
      " 4   BRANCH_ID                            112392 non-null  int64  \n",
      " 5   SUPPLIER_ID                          112392 non-null  int64  \n",
      " 6   MANUFACTURER_ID                      112392 non-null  int64  \n",
      " 7   CURRENT_PINCODE_ID                   112392 non-null  int64  \n",
      " 8   DATE_OF_BIRTH                        112392 non-null  object \n",
      " 9   EMPLOYMENT_TYPE                      108949 non-null  object \n",
      " 10  DISBURSAL_DATE                       112392 non-null  object \n",
      " 11  STATE_ID                             112392 non-null  int64  \n",
      " 12  EMPLOYEE_CODE_ID                     112392 non-null  int64  \n",
      " 13  MOBILENO_AVL_FLAG                    112392 non-null  int64  \n",
      " 14  AADHAR_FLAG                          112392 non-null  int64  \n",
      " 15  PAN_FLAG                             112392 non-null  int64  \n",
      " 16  VOTERID_FLAG                         112392 non-null  int64  \n",
      " 17  DRIVING_FLAG                         112392 non-null  int64  \n",
      " 18  PASSPORT_FLAG                        112392 non-null  int64  \n",
      " 19  PERFORM_CNS_SCORE                    112392 non-null  int64  \n",
      " 20  PERFORM_CNS_SCORE_DESCRIPTION        112392 non-null  object \n",
      " 21  PRI_NO_OF_ACCTS                      112392 non-null  int64  \n",
      " 22  PRI_ACTIVE_ACCTS                     112392 non-null  int64  \n",
      " 23  PRI_OVERDUE_ACCTS                    112392 non-null  int64  \n",
      " 24  PRI_CURRENT_BALANCE                  112392 non-null  int64  \n",
      " 25  PRI_SANCTIONED_AMOUNT                112392 non-null  int64  \n",
      " 26  PRI_DISBURSED_AMOUNT                 112392 non-null  int64  \n",
      " 27  SEC_NO_OF_ACCTS                      112392 non-null  int64  \n",
      " 28  SEC_ACTIVE_ACCTS                     112392 non-null  int64  \n",
      " 29  SEC_OVERDUE_ACCTS                    112392 non-null  int64  \n",
      " 30  SEC_CURRENT_BALANCE                  112392 non-null  int64  \n",
      " 31  SEC_SANCTIONED_AMOUNT                112392 non-null  int64  \n",
      " 32  SEC_DISBURSED_AMOUNT                 112392 non-null  int64  \n",
      " 33  PRIMARY_INSTAL_AMT                   112392 non-null  int64  \n",
      " 34  SEC_INSTAL_AMT                       112392 non-null  int64  \n",
      " 35  NEW_ACCTS_IN_LAST_SIX_MONTHS         112392 non-null  int64  \n",
      " 36  DELINQUENT_ACCTS_IN_LAST_SIX_MONTHS  112392 non-null  int64  \n",
      " 37  AVERAGE_ACCT_AGE                     112392 non-null  object \n",
      " 38  CREDIT_HISTORY_LENGTH                112392 non-null  object \n",
      " 39  NO_OF_INQUIRIES                      112392 non-null  int64  \n",
      "dtypes: float64(1), int64(33), object(6)\n",
      "memory usage: 34.3+ MB\n"
     ]
    }
   ],
   "source": [
    "df.info()"
   ]
  },
  {
   "cell_type": "code",
   "execution_count": 9,
   "id": "6d7f0e1d",
   "metadata": {},
   "outputs": [],
   "source": [
    "#i notice that there is 39 columns and 112392 rows  "
   ]
  },
  {
   "cell_type": "code",
   "execution_count": 33,
   "id": "da7267c7",
   "metadata": {},
   "outputs": [
    {
     "data": {
      "text/plain": [
       "86     51669\n",
       "45     30427\n",
       "51     13723\n",
       "48      6254\n",
       "49      4592\n",
       "120     4391\n",
       "67       959\n",
       "145      360\n",
       "153       13\n",
       "152        3\n",
       "155        1\n",
       "Name: MANUFACTURER_ID, dtype: int64"
      ]
     },
     "execution_count": 33,
     "metadata": {},
     "output_type": "execute_result"
    }
   ],
   "source": [
    "df['MANUFACTURER_ID'].value_counts()"
   ]
  },
  {
   "cell_type": "code",
   "execution_count": 16,
   "id": "4ca68b66",
   "metadata": {},
   "outputs": [],
   "source": [
    "#there is 11 MANUFACTURER_ID "
   ]
  },
  {
   "cell_type": "code",
   "execution_count": 19,
   "id": "b8b10a24",
   "metadata": {},
   "outputs": [
    {
     "data": {
      "text/plain": [
       "77186.38531212186"
      ]
     },
     "execution_count": 19,
     "metadata": {},
     "output_type": "execute_result"
    }
   ],
   "source": [
    "df['ASSET_COST'].mean()"
   ]
  },
  {
   "cell_type": "code",
   "execution_count": 22,
   "id": "4471be78",
   "metadata": {},
   "outputs": [
    {
     "data": {
      "text/plain": [
       "count    1.123920e+05\n",
       "mean     7.718639e+04\n",
       "std      1.827149e+04\n",
       "min      4.011700e+04\n",
       "25%      6.751000e+04\n",
       "50%      7.258400e+04\n",
       "75%      8.004000e+04\n",
       "max      1.271553e+06\n",
       "Name: ASSET_COST, dtype: float64"
      ]
     },
     "execution_count": 22,
     "metadata": {},
     "output_type": "execute_result"
    }
   ],
   "source": [
    "df['ASSET_COST'].describe()"
   ]
  },
  {
   "cell_type": "code",
   "execution_count": 23,
   "id": "84633882",
   "metadata": {},
   "outputs": [
    {
     "data": {
      "text/plain": [
       "18271.485420055873"
      ]
     },
     "execution_count": 23,
     "metadata": {},
     "output_type": "execute_result"
    }
   ],
   "source": [
    "df['ASSET_COST'].std()"
   ]
  },
  {
   "cell_type": "code",
   "execution_count": null,
   "id": "77a5917b",
   "metadata": {},
   "outputs": [],
   "source": [
    "#this shows that there is out liers "
   ]
  },
  {
   "cell_type": "code",
   "execution_count": 24,
   "id": "58238d76",
   "metadata": {},
   "outputs": [
    {
     "data": {
      "text/plain": [
       "75.31032529005846"
      ]
     },
     "execution_count": 24,
     "metadata": {},
     "output_type": "execute_result"
    }
   ],
   "source": [
    "df['LTV'].mean()"
   ]
  },
  {
   "cell_type": "code",
   "execution_count": 25,
   "id": "bf3a1be3",
   "metadata": {},
   "outputs": [
    {
     "data": {
      "text/plain": [
       "11.006380347585612"
      ]
     },
     "execution_count": 25,
     "metadata": {},
     "output_type": "execute_result"
    }
   ],
   "source": [
    "df['LTV'].std()"
   ]
  },
  {
   "cell_type": "code",
   "execution_count": null,
   "id": "ab1961b4",
   "metadata": {},
   "outputs": [],
   "source": [
    "#this alsow shows that there is out liers "
   ]
  },
  {
   "cell_type": "code",
   "execution_count": 30,
   "id": "b83655e2",
   "metadata": {},
   "outputs": [],
   "source": [
    "import seaborn as sns"
   ]
  },
  {
   "cell_type": "code",
   "execution_count": 31,
   "id": "8d3a104c",
   "metadata": {},
   "outputs": [
    {
     "data": {
      "text/plain": [
       "<AxesSubplot:xlabel='ASSET_COST', ylabel='Count'>"
      ]
     },
     "execution_count": 31,
     "metadata": {},
     "output_type": "execute_result"
    },
    {
     "data": {
      "image/png": "[encoded data removed]",
      "text/plain": [
       "<Figure size 432x288 with 1 Axes>"
      ]
     },
     "metadata": {
      "needs_background": "light"
     },
     "output_type": "display_data"
    }
   ],
   "source": [
    "sns.histplot(df[\"ASSET_COST\"]) "
   ]
  },
  {
   "cell_type": "code",
   "execution_count": 32,
   "id": "4f268bfe",
   "metadata": {},
   "outputs": [],
   "source": [
    "#this profe that there is an outliers "
   ]
  },
  {
   "cell_type": "code",
   "execution_count": 34,
   "id": "4036dfd8",
   "metadata": {},
   "outputs": [
    {
     "data": {
      "text/plain": [
       "<AxesSubplot:xlabel='MANUFACTURER_ID', ylabel='ASSET_COST'>"
      ]
     },
     "execution_count": 34,
     "metadata": {},
     "output_type": "execute_result"
    },
    {
     "data": {
      "image/png": "[encoded data removed]",
      "text/plain": [
       "<Figure size 432x288 with 1 Axes>"
      ]
     },
     "metadata": {
      "needs_background": "light"
     },
     "output_type": "display_data"
    }
   ],
   "source": [
    "sns.boxplot(x=\"MANUFACTURER_ID\", y=\"ASSET_COST\", data=df)"
   ]
  },
  {
   "cell_type": "code",
   "execution_count": null,
   "id": "57563043",
   "metadata": {},
   "outputs": [],
   "source": [
    "#the MANUFACTURER_ID 152 have the highst ASSET_COST"
   ]
  }
 ],
 "metadata": {
  "kernelspec": {
   "display_name": "Python 3 (ipykernel)",
   "language": "python",
   "name": "python3"
  },
  "language_info": {
   "codemirror_mode": {
    "name": "ipython",
    "version": 3
   },
   "file_extension": ".py",
   "mimetype": "text/x-python",
   "name": "python",
   "nbconvert_exporter": "python",
   "pygments_lexer": "ipython3",
   "version": "3.9.12"
  }
 },
 "nbformat": 4,
 "nbformat_minor": 5
}
